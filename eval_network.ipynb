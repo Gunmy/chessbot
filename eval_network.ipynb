{
 "cells": [
  {
   "cell_type": "code",
   "execution_count": 1,
   "metadata": {},
   "outputs": [],
   "source": [
    "from tensorflow.keras.models import load_model\n",
    "import matplotlib.pyplot as plt\n",
    "import pandas as pd\n",
    "import ast\n",
    "import numpy as np"
   ]
  },
  {
   "cell_type": "code",
   "execution_count": 2,
   "metadata": {},
   "outputs": [],
   "source": [
    "csv_file_path = 'test.csv'\n",
    "df = pd.read_csv(csv_file_path, header=0)"
   ]
  },
  {
   "cell_type": "code",
   "execution_count": 3,
   "metadata": {},
   "outputs": [
    {
     "name": "stdout",
     "output_type": "stream",
     "text": [
      "20000\n"
     ]
    }
   ],
   "source": [
    "import random\n",
    "\n",
    "test_size = 20000\n",
    "\n",
    "rows = len(df)\n",
    "from_loc = random.randint(0, rows-1-test_size)\n",
    "to_loc = from_loc + test_size\n",
    "\n",
    "copy = df.iloc[from_loc : to_loc].copy()\n",
    "\n",
    "print(len(copy))\n",
    "\n",
    "copy['position'] = copy['position'].apply(ast.literal_eval)\n",
    "copy['metadata'] = copy['metadata'].apply(ast.literal_eval)\n",
    "\n",
    "X_board = np.array(copy['position'].tolist())\n",
    "X_metadata = np.array(copy['metadata'].tolist())\n",
    "\n",
    "y = copy['eval']"
   ]
  },
  {
   "cell_type": "code",
   "execution_count": 4,
   "metadata": {},
   "outputs": [
    {
     "name": "stderr",
     "output_type": "stream",
     "text": [
      "c:\\Users\\Sebastian Munthe\\.conda\\envs\\tf-cpu\\lib\\site-packages\\keras\\src\\models\\functional.py:225: UserWarning: The structure of `inputs` doesn't match the expected structure: ['board_input', 'metadata_input']. Received: the structure of inputs={'board_input': '*', 'metadata_input': '*'}\n",
      "  warnings.warn(\n"
     ]
    },
    {
     "name": "stdout",
     "output_type": "stream",
     "text": [
      "\u001b[1m625/625\u001b[0m \u001b[32m━━━━━━━━━━━━━━━━━━━━\u001b[0m\u001b[37m\u001b[0m \u001b[1m2s\u001b[0m 3ms/step - loss: 4.2333 - mae: 4.6242\n",
      "Test loss 4.2148919105529785\n",
      "Test accuracy 4.603201389312744 <= 0.92\n"
     ]
    }
   ],
   "source": [
    "model = load_model('chess_evaluator.keras')\n",
    "\n",
    "model = load_model('chess_evaluator.keras')\n",
    "\n",
    "model.compile(\n",
    "    loss='huber', optimizer=\"adam\", metrics=['mae']\n",
    ")\n",
    "\n",
    "results = model.evaluate(\n",
    "    {'board_input': X_board, 'metadata_input': X_metadata},\n",
    "    y)\n",
    "\n",
    "print(\"Test loss\", results[0])\n",
    "print(\"Test mae\", results[1])\n"
   ]
  },
  {
   "cell_type": "code",
   "execution_count": null,
   "metadata": {},
   "outputs": [],
   "source": []
  }
 ],
 "metadata": {
  "kernelspec": {
   "display_name": "tf-cpu",
   "language": "python",
   "name": "python3"
  },
  "language_info": {
   "codemirror_mode": {
    "name": "ipython",
    "version": 3
   },
   "file_extension": ".py",
   "mimetype": "text/x-python",
   "name": "python",
   "nbconvert_exporter": "python",
   "pygments_lexer": "ipython3",
   "version": "3.9.20"
  }
 },
 "nbformat": 4,
 "nbformat_minor": 2
}
